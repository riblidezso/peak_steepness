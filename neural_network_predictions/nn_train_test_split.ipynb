{
 "cells": [
  {
   "cell_type": "markdown",
   "metadata": {},
   "source": [
    "# Data preprocessing. Train-test split\n",
    "\n",
    "_Author: Bálint Ármin_"
   ]
  },
  {
   "cell_type": "markdown",
   "metadata": {},
   "source": [
    "## Compressed files:\n",
    " - deepLense/data/deepLenseData/compressedData\n",
    " \n",
    "## Extracted files:\n",
    " - deepLense/data/deepLenseData/extractedData\n",
    " \n",
    "This notebook will create 3 new folders: train_fits, val_fits and test_fits(~60%, ~10% and ~30%). \n",
    "These will contain all the fits files with informative names (omega and sigma in the filename)."
   ]
  },
  {
   "cell_type": "code",
   "execution_count": 1,
   "metadata": {},
   "outputs": [],
   "source": [
    "from astropy.io  import fits as fits_loader\n",
    "from tqdm import tqdm_notebook as pb\n",
    "from matplotlib import pyplot as plt\n",
    "import numpy as np\n",
    "%matplotlib inline"
   ]
  },
  {
   "cell_type": "code",
   "execution_count": 2,
   "metadata": {},
   "outputs": [
    {
     "name": "stdout",
     "output_type": "stream",
     "text": [
      "ln: failed to create symbolic link '../data/deepLenseData': File exists\r\n"
     ]
    }
   ],
   "source": [
    "!ln -s /media/patbaa/hdd/deepLenseData ../data"
   ]
  },
  {
   "cell_type": "code",
   "execution_count": 2,
   "metadata": {},
   "outputs": [],
   "source": [
    "base = '../data/deepLenseData/'"
   ]
  },
  {
   "cell_type": "code",
   "execution_count": 6,
   "metadata": {},
   "outputs": [
    {
     "name": "stdout",
     "output_type": "stream",
     "text": [
      "mkdir: cannot create directory ‘../data/deepLenseData//train_fits’: File exists\n",
      "mkdir: cannot create directory ‘../data/deepLenseData//test_fits’: File exists\n",
      "mkdir: cannot create directory ‘../data/deepLenseData//train_numpy’: File exists\n",
      "mkdir: cannot create directory ‘../data/deepLenseData//test_numpy’: File exists\n"
     ]
    }
   ],
   "source": [
    "!mkdir $base/train_fits\n",
    "!mkdir $base/test_fits\n",
    "\n",
    "!mkdir $base/train_numpy\n",
    "!mkdir $base/test_numpy"
   ]
  },
  {
   "cell_type": "code",
   "execution_count": 8,
   "metadata": {},
   "outputs": [],
   "source": [
    "fitsDirectories = !ls $base/extractedData/"
   ]
  },
  {
   "cell_type": "code",
   "execution_count": 9,
   "metadata": {},
   "outputs": [],
   "source": [
    "for fitsDIR_end in fitsDirectories:\n",
    "    fitsDIR = base + 'extractedData/' + fitsDIR_end\n",
    "    fitsFiles = !ls $fitsDIR\n",
    "    for i in fitsFiles:\n",
    "        file_end = i.split('_')[-1]\n",
    "        newFile = base + 'train_fits/' + fitsDIR_end + '_' + file_end \n",
    "        oldFile = fitsDIR + '/' + i\n",
    "        !mv $oldFile $newFile"
   ]
  },
  {
   "cell_type": "code",
   "execution_count": 10,
   "metadata": {},
   "outputs": [],
   "source": [
    "train_fits = !ls $base/train_fits/\n",
    "np.random.shuffle(train_fits)"
   ]
  },
  {
   "cell_type": "code",
   "execution_count": 11,
   "metadata": {},
   "outputs": [
    {
     "data": {
      "text/plain": [
       "49091"
      ]
     },
     "execution_count": 11,
     "metadata": {},
     "output_type": "execute_result"
    }
   ],
   "source": [
    "data_size = len(train_fits)\n",
    "data_size"
   ]
  },
  {
   "cell_type": "code",
   "execution_count": 12,
   "metadata": {},
   "outputs": [],
   "source": [
    "#move 30% of the data to test data\n",
    "for i in range(int(0.3*data_size)):\n",
    "    file = train_fits[i]\n",
    "    !mv $base/train_fits/$file $base/test_fits/$file"
   ]
  },
  {
   "cell_type": "code",
   "execution_count": 13,
   "metadata": {},
   "outputs": [],
   "source": [
    "train_fits = !ls $base/train_fits/\n",
    "np.random.shuffle(train_fits)"
   ]
  },
  {
   "cell_type": "code",
   "execution_count": 14,
   "metadata": {},
   "outputs": [],
   "source": [
    "#move 10% of the data to val data\n",
    "for i in range(int(0.1*data_size)):\n",
    "    file = train_fits[i]\n",
    "    !mv $base/train_fits/$file $base/val_fits/$file"
   ]
  },
  {
   "cell_type": "markdown",
   "metadata": {},
   "source": [
    "# Split to smaller images and save as numpy array!\n",
    "\n",
    "### All the tiles of a FITS file will fall into the same split (train, val or test)"
   ]
  },
  {
   "cell_type": "code",
   "execution_count": 16,
   "metadata": {},
   "outputs": [],
   "source": [
    "val_fits = !ls $base/val_fits/\n",
    "for file in val_fits:\n",
    "    pixels = fits_loader.open(base + '/val_fits/' + file)\n",
    "    pixels = pixels[0].data\n",
    "    for i in range(4):\n",
    "        for j in range(4):\n",
    "            np.save(base + '/val_numpy/' + file[:-5] + '_' + str(i) + '_' + str(j) + '.npy', \n",
    "                    pixels[i*256:(i+1)*256, j*256:(j+1)*256])"
   ]
  },
  {
   "cell_type": "code",
   "execution_count": 17,
   "metadata": {},
   "outputs": [],
   "source": [
    "test_fits = !ls $base/test_fits/\n",
    "for file in test_fits:\n",
    "    pixels = fits_loader.open(base + '/test_fits/' + file)\n",
    "    pixels = pixels[0].data\n",
    "    for i in range(4):\n",
    "        for j in range(4):\n",
    "            np.save(base + '/test_numpy/' + file[:-5] + '_' + str(i) + '_' + str(j) + '.npy', \n",
    "                    pixels[i*256:(i+1)*256, j*256:(j+1)*256])"
   ]
  },
  {
   "cell_type": "code",
   "execution_count": 18,
   "metadata": {},
   "outputs": [],
   "source": [
    "train_fits = !ls $base/train_fits/\n",
    "for file in train_fits:\n",
    "    pixels = fits_loader.open(base + '/train_fits/' + file)\n",
    "    pixels = pixels[0].data\n",
    "    for i in range(4):\n",
    "        for j in range(4):\n",
    "            np.save(base + '/train_numpy/' + file[:-5] + '_' + str(i) + '_' + str(j) + '.npy', \n",
    "                    pixels[i*256:(i+1)*256, j*256:(j+1)*256])"
   ]
  }
 ],
 "metadata": {
  "kernelspec": {
   "display_name": "Python 3",
   "language": "python",
   "name": "python3"
  },
  "language_info": {
   "codemirror_mode": {
    "name": "ipython",
    "version": 2
   },
   "file_extension": ".py",
   "mimetype": "text/x-python",
   "name": "python",
   "nbconvert_exporter": "python",
   "pygments_lexer": "ipython2",
   "version": "2.7.12"
  },
  "widgets": {
   "state": {
    "403685dfe8014b7b95bf849e23eca7bf": {
     "views": [
      {
       "cell_index": 28
      }
     ]
    },
    "56657f416ae54b76b40c53ca6ab1f7fb": {
     "views": [
      {
       "cell_index": 20
      }
     ]
    },
    "69c5b6841e934d84b9cc61f5921128c8": {
     "views": [
      {
       "cell_index": 29
      }
     ]
    },
    "81ada92058f04b059a4082e7f9f10e31": {
     "views": [
      {
       "cell_index": 19
      }
     ]
    },
    "906be6ae417f43cd89e9e949942c8d4d": {
     "views": [
      {
       "cell_index": 18
      }
     ]
    },
    "d4881e8dc26e44a480fead47bda4ed28": {
     "views": [
      {
       "cell_index": 30
      }
     ]
    }
   },
   "version": "1.2.0"
  }
 },
 "nbformat": 4,
 "nbformat_minor": 2
}
