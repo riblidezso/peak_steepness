{
 "cells": [
  {
   "cell_type": "markdown",
   "metadata": {},
   "source": [
    "# This notebook creates the predictions for the test_numpy files.\n",
    "\n",
    "_Author: Bálint Pataki_"
   ]
  },
  {
   "cell_type": "code",
   "execution_count": null,
   "metadata": {},
   "outputs": [],
   "source": [
    "modelName = 'slightly_modified_model'"
   ]
  },
  {
   "cell_type": "code",
   "execution_count": null,
   "metadata": {
    "scrolled": true
   },
   "outputs": [],
   "source": [
    "#%env CUDA_VISIBLE_DEVICES="
   ]
  },
  {
   "cell_type": "code",
   "execution_count": null,
   "metadata": {},
   "outputs": [],
   "source": [
    "import pandas as pd\n",
    "from deepLense import *\n",
    "import matplotlib.pyplot as plt\n",
    "\n",
    "%matplotlib inline"
   ]
  },
  {
   "cell_type": "code",
   "execution_count": null,
   "metadata": {},
   "outputs": [],
   "source": [
    "test_ids = !ls ../data/deepLenseData/test_numpy/\n",
    "test_ids = [i[:-4] for i in test_ids]\n",
    "#test_ids = np.random.choice(np.array(test_ids), replace=False, size=1000)"
   ]
  },
  {
   "cell_type": "code",
   "execution_count": null,
   "metadata": {},
   "outputs": [],
   "source": [
    "model = keras.models.load_model('weights/slightly_modified_model/slightly_modified_model_04_0.000324.hdf5')"
   ]
  },
  {
   "cell_type": "code",
   "execution_count": null,
   "metadata": {},
   "outputs": [],
   "source": [
    "true_list = []\n",
    "omega_preds = []\n",
    "sigma_preds = []\n",
    "file_list = []\n",
    "\n",
    "data = []\n",
    "k = 0\n",
    "for i in pb(test_ids):\n",
    "    k += 1\n",
    "    data.append(np.load('/mnt/deepLenseData/test_numpy/' + i + '.npy').reshape(256, 256, 1))\n",
    "    file_list.append(i[:-4])\n",
    "    omega = float(i.split('_')[0][2:])\n",
    "    sigma = float(i.split('_')[1][2:])\n",
    "    true_list.append([omega, sigma])\n",
    "    \n",
    "    if((k%32) == 0):        \n",
    "        preds = model.predict_on_batch(np.array(data))        \n",
    "        omega_preds = omega_preds + list(preds[:,0])\n",
    "        sigma_preds = sigma_preds + list(preds[:,1])\n",
    "        data = []\n",
    "if(len(data)>0):        \n",
    "    preds = model.predict_on_batch(np.array(data))        \n",
    "    omega_preds = omega_preds + list(preds[:,0])\n",
    "    sigma_preds = sigma_preds + list(preds[:,1])\n",
    "    data = []\n",
    "    \n",
    "predDF = pd.DataFrame({'true_omega':np.array(true_list)[:,0],\n",
    "              'true_sigma':np.array(true_list)[:,1],\n",
    "              'pred_omega':omega_preds,\n",
    "              'pred_sigma':sigma_preds,\n",
    "              'fileName':file_list})\n",
    "predDF = predDF.groupby('fileName').mean().reset_index() # average for big FITS file (16 smaller numpy array)"
   ]
  },
  {
   "cell_type": "code",
   "execution_count": null,
   "metadata": {},
   "outputs": [],
   "source": [
    "predDF.to_csv('preds/' + modelName + '_preds.csv', index=False)"
   ]
  }
 ],
 "metadata": {
  "kernelspec": {
   "display_name": "Python 3",
   "language": "python",
   "name": "python3"
  },
  "language_info": {
   "codemirror_mode": {
    "name": "ipython",
    "version": 2
   },
   "file_extension": ".py",
   "mimetype": "text/x-python",
   "name": "python",
   "nbconvert_exporter": "python",
   "pygments_lexer": "ipython2",
   "version": "2.7.12"
  },
  "widgets": {
   "state": {
    "5e44be19e37b4807a368cb777b2947e2": {
     "views": [
      {
       "cell_index": 7
      }
     ]
    }
   },
   "version": "1.2.0"
  }
 },
 "nbformat": 4,
 "nbformat_minor": 2
}
