{
 "cells": [
  {
   "cell_type": "markdown",
   "metadata": {},
   "source": [
    "# Accuracy of peak counting with 'peak steepness' on simulated survey data with shape noise\n",
    "\n",
    "---\n",
    "\n",
    "This notebook reproduces results from this article: https://arxiv.org/abs/1806.05995, the comparison of cosmological parameter predictions with peak height statistics and peak steepness statistics on simulated weak lensing surveys with convergence maps in the presence of shape noise.\n",
    "\n",
    "See the models themselves in the python file: generalized_peak_counting.py\n",
    "\n",
    "---\n",
    "*Author: Dezso Ribli*\n"
   ]
  },
  {
   "cell_type": "markdown",
   "metadata": {},
   "source": [
    "### Parameters"
   ]
  },
  {
   "cell_type": "code",
   "execution_count": 1,
   "metadata": {
    "collapsed": true
   },
   "outputs": [],
   "source": [
    "D = '/mnt/data/weaklens/columbia_data/'  # data folder\n",
    "\n",
    "NG = 8. #  Effective number of galaxies for current ground based observations\n",
    "RES = 2.  # reasonable angular resolution in arcmins for this noise\n",
    "\n",
    "# NG = 8. #  Effective number of galaxies for LSST/EUCLID\n",
    "# RES = 2.  # reasonable angular resolution in arcmins for this noise\n",
    "\n",
    "N_REAL = 10000  # number of random realizations\n",
    "N_MAP = 37  # number of maps in the survey 1 map is 12.25 degˆ2"
   ]
  },
  {
   "cell_type": "markdown",
   "metadata": {},
   "source": [
    "### Load modules"
   ]
  },
  {
   "cell_type": "code",
   "execution_count": 2,
   "metadata": {},
   "outputs": [
    {
     "name": "stdout",
     "output_type": "stream",
     "text": [
      "Populating the interactive namespace from numpy and matplotlib\n"
     ]
    }
   ],
   "source": [
    "%pylab inline"
   ]
  },
  {
   "cell_type": "code",
   "execution_count": 3,
   "metadata": {
    "collapsed": true
   },
   "outputs": [],
   "source": [
    "from glob import glob\n",
    "import os\n",
    "import pickle\n",
    "import random\n",
    "\n",
    "# module for peak counting included in the github repo\n",
    "from generalized_peak_counting import PeakCount, rmse_bootstrap"
   ]
  },
  {
   "cell_type": "markdown",
   "metadata": {},
   "source": [
    "### Load data\n",
    "\n",
    "Actually only load the filenames and parameters, the data will be read on the fly because of its large volume."
   ]
  },
  {
   "cell_type": "code",
   "execution_count": 4,
   "metadata": {
    "collapsed": true
   },
   "outputs": [],
   "source": [
    "filenames = np.array(sorted(glob(os.path.join(D,'*/*.fits'))))  # filenames\n",
    "\n",
    "# parse parameters from filenames\n",
    "sigma_8 = np.array([float(os.path.basename(os.path.dirname(fn))[10:15]) for fn in filenames])\n",
    "omega_m = np.array([float(os.path.basename(os.path.dirname(fn))[2:7]) for fn in filenames])"
   ]
  },
  {
   "cell_type": "markdown",
   "metadata": {},
   "source": [
    "### Initialize models, both peak height and steepness\n",
    "\n",
    "Note the histogram bins at peak steepness, they need to be changed when changing noise or resolution!"
   ]
  },
  {
   "cell_type": "code",
   "execution_count": null,
   "metadata": {
    "collapsed": true
   },
   "outputs": [],
   "source": [
    "peak_height = PeakCount(peak_counting_method = 'original',\n",
    "                        shape_noise = True,\n",
    "                        resolution_arcmin = RES, ng = NG,\n",
    "                        bins = np.linspace(-0.03,0.19,23))\n",
    "\n",
    "# when using NG=26 change bins to, bins = np.linspace(0.4,1.1,23)) \n",
    "# to reproduce numbers in the paper\n",
    "peak_steepness = PeakCount(peak_counting_method = 'sobel',\n",
    "                           shape_noise = True,\n",
    "                           resolution_arcmin = RES, ng = NG,\n",
    "                           bins = np.linspace(0.3,1.1,23))   "
   ]
  },
  {
   "cell_type": "markdown",
   "metadata": {},
   "source": [
    "### Calculate mean histograms and covariances\n",
    "\n",
    "Note: it takes hours!"
   ]
  },
  {
   "cell_type": "code",
   "execution_count": null,
   "metadata": {
    "collapsed": true
   },
   "outputs": [],
   "source": [
    "%%time\n",
    "peak_height.fit(filenames, omega_m, sigma_8) \n",
    "peak_steepness.fit(filenames, omega_m, sigma_8)\n",
    "# save it for later this was the longest step\n",
    "pickle.dump((peak_height, peak_steepness),open('results/demo_survey_n8.pkl','wb'))"
   ]
  },
  {
   "cell_type": "code",
   "execution_count": null,
   "metadata": {
    "collapsed": true
   },
   "outputs": [],
   "source": [
    "# load it back if it was done before\n",
    "peak_height, peak_steepness = pickle.load(open('results/demo_survey_n8.pkl','rb'))"
   ]
  },
  {
   "cell_type": "markdown",
   "metadata": {},
   "source": [
    "### Predict parameters of random realizations of a 'survey' on maps with fiducial parameters \n",
    "\n",
    "Note: it takes hours!"
   ]
  },
  {
   "cell_type": "code",
   "execution_count": null,
   "metadata": {
    "collapsed": true
   },
   "outputs": [],
   "source": [
    "%%time\n",
    "# fiducial filenames and params\n",
    "fiducial_filenames = filenames[(omega_m==0.26) & (sigma_8==0.8)]\n",
    "omega_m_true, sigma_8_true = np.ones(N_REAL)*0.26, np.ones(N_REAL)*0.8\n",
    "pho, phs, pso, pss = [np.zeros(N_REAL) for _ in range(4)]  # predictions\n",
    "\n",
    "random.seed(42)  # reset seed\n",
    "for j in range(N_REAL):  # loop over realizations\n",
    "    sample_filenames = random.sample(fiducial_filenames, N_MAP)\n",
    "    pho[j],phs[j] = peak_height.predict(sample_filenames)\n",
    "    pso[j],pss[j] = peak_steepness.predict(sample_filenames)\n",
    "    \n",
    "# save predictions\n",
    "pickle.dump((omega_m_true, sigma_8_true, pho, phs, pso, pss),\n",
    "            open('results/survey_predictions_n8.pkl','wb'))"
   ]
  },
  {
   "cell_type": "code",
   "execution_count": null,
   "metadata": {
    "collapsed": true
   },
   "outputs": [],
   "source": [
    "# load it back if it was done before\n",
    "omega_m_true, sigma_8_true, pho, phs, pso, pss = pickle.load(\n",
    "    open('results/survey_predictions_n8.pkl','rb'))"
   ]
  },
  {
   "cell_type": "markdown",
   "metadata": {},
   "source": [
    "### Estimate errors"
   ]
  },
  {
   "cell_type": "code",
   "execution_count": 11,
   "metadata": {},
   "outputs": [
    {
     "name": "stdout",
     "output_type": "stream",
     "text": [
      "Omega_m predictions errors (RMSE)\n",
      " Peak height:  0.0439 +/- 0.0008\n",
      " Peak steepness: 0.0303 +/- 0.0003\n",
      "\n",
      "sigma_8 predictions errors (RMSE)\n",
      " Peak height:  0.0644 +/- 0.0007\n",
      " Peak steepness: 0.0567 +/- 0.0006\n"
     ]
    }
   ],
   "source": [
    "print 'Omega_m predictions errors (RMSE)'\n",
    "print ' Peak height: ', \"%.4f +/- %.4f\" % rmse_bootstrap(omega_m_true, pho)\n",
    "print ' Peak steepness:', \"%.4f +/- %.4f\" % rmse_bootstrap(omega_m_true, pso)\n",
    "print\n",
    "print 'sigma_8 predictions errors (RMSE)'\n",
    "print ' Peak height: ',  \"%.4f +/- %.4f\" % rmse_bootstrap(sigma_8_true, phs)\n",
    "print ' Peak steepness:', \"%.4f +/- %.4f\" % rmse_bootstrap(sigma_8_true, pss)"
   ]
  },
  {
   "cell_type": "markdown",
   "metadata": {},
   "source": [
    "# The end"
   ]
  }
 ],
 "metadata": {
  "kernelspec": {
   "display_name": "Python 2",
   "language": "python",
   "name": "python2"
  },
  "language_info": {
   "codemirror_mode": {
    "name": "ipython",
    "version": 2
   },
   "file_extension": ".py",
   "mimetype": "text/x-python",
   "name": "python",
   "nbconvert_exporter": "python",
   "pygments_lexer": "ipython2",
   "version": "2.7.14"
  }
 },
 "nbformat": 4,
 "nbformat_minor": 2
}
