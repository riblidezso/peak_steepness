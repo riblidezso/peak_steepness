{
 "cells": [
  {
   "cell_type": "markdown",
   "metadata": {},
   "source": [
    "# Accuracy of peak counting with 'peak steepness'\n",
    "\n",
    "---\n",
    "*Author: Dezso Ribli*\n"
   ]
  },
  {
   "cell_type": "code",
   "execution_count": 1,
   "metadata": {
    "collapsed": false
   },
   "outputs": [
    {
     "name": "stdout",
     "output_type": "stream",
     "text": [
      "Populating the interactive namespace from numpy and matplotlib\n"
     ]
    }
   ],
   "source": [
    "from glob import glob\n",
    "import os\n",
    "import pickle\n",
    "from generalized_peak_counting import PeakCount, rmse\n",
    "\n",
    "%pylab inline"
   ]
  },
  {
   "cell_type": "markdown",
   "metadata": {},
   "source": [
    "### Load data"
   ]
  },
  {
   "cell_type": "code",
   "execution_count": 2,
   "metadata": {
    "collapsed": false
   },
   "outputs": [],
   "source": [
    "fns = sorted(glob('/mnt/data/weaklens/guptadata/*/*.fits'))  # filenames\n",
    "\n",
    "# parameters\n",
    "sis = [float(os.path.basename(os.path.dirname(fn))[10:15]) for fn in fns]\n",
    "oms = [float(os.path.basename(os.path.dirname(fn))[2:7]) for fn in fns]"
   ]
  },
  {
   "cell_type": "markdown",
   "metadata": {},
   "source": [
    "### Initialize models"
   ]
  },
  {
   "cell_type": "code",
   "execution_count": 3,
   "metadata": {
    "collapsed": false
   },
   "outputs": [],
   "source": [
    "RES = 0.2  # angular resolution in arcmin\n",
    "\n",
    "# original peak height statistics\n",
    "pco = PeakCount(peak_counting_method = 'original',\n",
    "                resolution_arcmin = RES,\n",
    "                bins = np.linspace(-0.03,0.19,23))\n",
    "\n",
    "# peak steepness statistics\n",
    "pcr = PeakCount(peak_counting_method = 'roberts_cross', \n",
    "                resolution_arcmin = RES,\n",
    "                bins = np.linspace(0,0.22,23))"
   ]
  },
  {
   "cell_type": "markdown",
   "metadata": {},
   "source": [
    "### Calculate mean histograms and covariances"
   ]
  },
  {
   "cell_type": "code",
   "execution_count": null,
   "metadata": {
    "collapsed": false
   },
   "outputs": [],
   "source": [
    "%%time\n",
    "pco.fit(fns, oms, sis)\n",
    "pcr.fit(fns, oms, sis)"
   ]
  },
  {
   "cell_type": "markdown",
   "metadata": {},
   "source": [
    "### Predict parameters for each map"
   ]
  },
  {
   "cell_type": "code",
   "execution_count": null,
   "metadata": {
    "collapsed": false
   },
   "outputs": [],
   "source": [
    "%%time\n",
    "poo,pos = zip(*[pco.predict(fn) for fn in fns])\n",
    "pro,prs = zip(*[pcr.predict(fn) for fn in fns])"
   ]
  },
  {
   "cell_type": "markdown",
   "metadata": {},
   "source": [
    "### Evaluate errors"
   ]
  },
  {
   "cell_type": "code",
   "execution_count": null,
   "metadata": {
    "collapsed": false
   },
   "outputs": [],
   "source": [
    "print 'Original peak_counting, RMSE Omega_m', rmse(oms,poo)\n",
    "print 'Roberts cross peak_counting, RMSE Omega_m', rmse(oms,pro)\n",
    "print\n",
    "print 'Original peak_counting, RMSE sigma_8', rmse(sis,pos)\n",
    "print 'Roberts cross peak_counting, RMSE sigma_8', rmse(sis,prs)"
   ]
  },
  {
   "cell_type": "markdown",
   "metadata": {},
   "source": [
    "### Plot predictions"
   ]
  },
  {
   "cell_type": "code",
   "execution_count": null,
   "metadata": {
    "collapsed": false
   },
   "outputs": [],
   "source": [
    "ms = 5\n",
    "fs = 16\n",
    "mew = 2.\n",
    "\n",
    "figsize(14,6)\n",
    "f,a = plt.subplots(1,2)\n",
    "\n",
    "plt.sca(a[0])\n",
    "plot(oms, poo,'o',ms=ms, mew=mew,mfc='none', label='peak height')\n",
    "plot(oms, pro,'o',ms=ms, mew=mew, label='peak steepness')\n",
    "legend(fontsize=fs, loc='lower right')\n",
    "xlabel(r'$\\Omega_m$ true', fontsize=fs)\n",
    "ylabel(r'$\\Omega_m$ predicted', fontsize=fs)\n",
    "grid(which='both')\n",
    "xticks(fontsize=fs)\n",
    "yticks(fontsize=fs)\n",
    "\n",
    "plt.sca(a[1])\n",
    "plot(sis, pos,'o',ms=ms, mew=mew,mfc='none', label='peak height')\n",
    "plot(sis, prs,'o',ms=ms, mew=mew, label='peak steepness')\n",
    "legend(fontsize=fs, loc='lower right')\n",
    "xlabel(r'$\\sigma_8$ true', fontsize=fs)\n",
    "ylabel(r'$\\sigma_8$ predicted', fontsize=fs)\n",
    "grid(which='both')\n",
    "xticks(fontsize=fs)\n",
    "yticks(fontsize=fs);"
   ]
  },
  {
   "cell_type": "markdown",
   "metadata": {},
   "source": [
    "### Save models and predictions "
   ]
  },
  {
   "cell_type": "code",
   "execution_count": null,
   "metadata": {
    "collapsed": true
   },
   "outputs": [],
   "source": [
    "pickle.dump((pco, pcr, oms, sis, poo, pos, pro, prs),\n",
    "            open('results.pkl','wb'))"
   ]
  },
  {
   "cell_type": "markdown",
   "metadata": {},
   "source": [
    "# The end"
   ]
  }
 ],
 "metadata": {
  "kernelspec": {
   "display_name": "Python 2",
   "language": "python",
   "name": "python2"
  },
  "language_info": {
   "codemirror_mode": {
    "name": "ipython",
    "version": 2
   },
   "file_extension": ".py",
   "mimetype": "text/x-python",
   "name": "python",
   "nbconvert_exporter": "python",
   "pygments_lexer": "ipython2",
   "version": "2.7.14"
  }
 },
 "nbformat": 4,
 "nbformat_minor": 2
}
