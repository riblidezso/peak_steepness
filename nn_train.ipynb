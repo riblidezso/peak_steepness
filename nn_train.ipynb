{
 "cells": [
  {
   "cell_type": "markdown",
   "metadata": {},
   "source": [
    "# Convolutional neural network training notebook\n",
    "\n",
    "_Author: Balint Pataki_"
   ]
  },
  {
   "cell_type": "code",
   "execution_count": null,
   "metadata": {},
   "outputs": [],
   "source": [
    "from nn_utils import *"
   ]
  },
  {
   "cell_type": "code",
   "execution_count": null,
   "metadata": {},
   "outputs": [],
   "source": [
    "model = get_original_model()\n",
    "#model = get_new_model()"
   ]
  },
  {
   "cell_type": "code",
   "execution_count": null,
   "metadata": {},
   "outputs": [],
   "source": [
    "modelName = 'original_model'"
   ]
  },
  {
   "cell_type": "markdown",
   "metadata": {},
   "source": [
    "#### train_numpy and val_numpy and test_numpy folders contains 256*256 pixel numpy arrays"
   ]
  },
  {
   "cell_type": "code",
   "execution_count": null,
   "metadata": {},
   "outputs": [],
   "source": [
    "train_ids_all = !ls /mnt/deepLenseData/train_numpy/\n",
    "train_ids_all = [i[:-4] for i in train_ids_all]\n",
    "\n",
    "val_ids = !ls /mnt/deepLenseData/val_numpy/\n",
    "val_ids = [i[:-4] for i in val_ids]"
   ]
  },
  {
   "cell_type": "code",
   "execution_count": null,
   "metadata": {},
   "outputs": [],
   "source": [
    "train_generator = DataGenerator(train_ids_all, '/mnt/deepLenseData/train_numpy/', batch_size=32)\n",
    "val_generator   = DataGenerator(val_ids, '/mnt/deepLenseData/val_numpy/')"
   ]
  },
  {
   "cell_type": "code",
   "execution_count": null,
   "metadata": {},
   "outputs": [],
   "source": [
    "tbCallBack   = keras.callbacks.TensorBoard(log_dir='./Graph/' + modelName, \n",
    "                                           write_graph=True, write_images=True)\n",
    "\n",
    "weightBase = '/home/patbaa/deepLense/weights/' + modelName + '/'\n",
    "!mkdir -p $weightBase\n",
    "saveCallBack = keras.callbacks.ModelCheckpoint(weightBase + modelName + '_{epoch:02d}_{val_loss:.6f}.hdf5', \n",
    "                                               monitor='val_loss', verbose=0, save_best_only=False, \n",
    "                                               save_weights_only=False, period=1)"
   ]
  },
  {
   "cell_type": "code",
   "execution_count": null,
   "metadata": {},
   "outputs": [],
   "source": [
    "model.fit_generator(generator=train_generator, use_multiprocessing=True, workers=4,                             \n",
    "                             callbacks=[tbCallBack, saveCallBack], validation_data=val_generator,\n",
    "                             steps_per_epoch=len(train_generator), validation_steps=len(val_generator),\n",
    "                             epochs=5)"
   ]
  }
 ],
 "metadata": {
  "kernelspec": {
   "display_name": "Python 3",
   "language": "python",
   "name": "python3"
  },
  "language_info": {
   "codemirror_mode": {
    "name": "ipython",
    "version": 2
   },
   "file_extension": ".py",
   "mimetype": "text/x-python",
   "name": "python",
   "nbconvert_exporter": "python",
   "pygments_lexer": "ipython2",
   "version": "2.7.12"
  }
 },
 "nbformat": 4,
 "nbformat_minor": 2
}
